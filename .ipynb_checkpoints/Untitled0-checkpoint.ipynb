{
 "metadata": {
  "name": "",
  "signature": "sha256:ab391f0d9ea0cbc9aac67daf87d7164d7fb2f5b5f10cd205274d23af913c229d"
 },
 "nbformat": 3,
 "nbformat_minor": 0,
 "worksheets": []
}