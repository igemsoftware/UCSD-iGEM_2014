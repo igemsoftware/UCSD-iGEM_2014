{
 "metadata": {
  "name": "",
  "signature": "sha256:8c16f50651f44a32cea2b6c7e6cfda146b4e98f7a8c1f7be1f98ae55a915110f"
 },
 "nbformat": 3,
 "nbformat_minor": 0,
 "worksheets": [
  {
   "cells": [
    {
     "cell_type": "code",
     "collapsed": false,
     "input": [],
     "language": "python",
     "metadata": {},
     "outputs": []
    }
   ],
   "metadata": {}
  }
 ]
}