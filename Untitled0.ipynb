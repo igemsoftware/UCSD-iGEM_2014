{
 "metadata": {
  "name": "",
  "signature": "sha256:e58ab7215adf79e216a1d957981eb3934784e034ba0769cf5a8f458b012fbf23"
 },
 "nbformat": 3,
 "nbformat_minor": 0,
 "worksheets": [
  {
   "cells": [
    {
     "cell_type": "code",
     "collapsed": false,
     "input": [
      "def format_json_array_of_arrays(unformatted_json_array_of_arrays):\n",
      "    formatted_json_array_of_arrays = []\n",
      "    for unformatted_json_array in unformatted_json_array_of_arrays:\n",
      "        formatted_json_array = []\n",
      "        for element in unformatted_json_array:\n",
      "            formatted_json_array.append('\"' + element + '\"')\n",
      "        formatted_json_array_of_arrays.apend(formatted_json_array)\n",
      "    return formatted_json_array_of_arraysdef format_json_array_of_arrays(unformatted_json_array_of_arrays):\n",
      "    formatted_json_array_of_arrays = []\n",
      "    for unformatted_json_array in unformatted_json_array_of_arrays:\n",
      "        formatted_json_array = []\n",
      "        for element in unformatted_json_array:\n",
      "            formatted_json_array.append('\"' + element + '\"')\n",
      "        formatted_json_array_of_arrays.apend(formatted_json_array)\n",
      "    return formatted_json_array_of_arrays"
     ],
     "language": "python",
     "metadata": {},
     "outputs": []
    }
   ],
   "metadata": {}
  }
 ]
}