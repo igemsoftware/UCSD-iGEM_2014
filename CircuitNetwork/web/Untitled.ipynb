{
 "cells": [
  {
   "cell_type": "code",
   "execution_count": 1,
   "metadata": {
    "collapsed": true
   },
   "outputs": [],
   "source": [
    "import sys\n",
    "import subprocess as sp\n",
    "import SBiDer_helper\n",
    "import sbider_database as db\n",
    "import sbider_parser as parser\n",
    "import sbider_searcher as searcher\n",
    "import sbider_grapher as grapher"
   ]
  },
  {
   "cell_type": "code",
   "execution_count": 2,
   "metadata": {
    "collapsed": false
   },
   "outputs": [
    {
     "name": "stdout",
     "output_type": "stream",
     "text": [
      "Testing python package NetworkX...\n",
      "Testing python package networkx passed.\n",
      "\n"
     ]
    }
   ],
   "source": [
    "print(\"Testing python package NetworkX...\")\n",
    "\n",
    "try:\n",
    "    output = sp.check_output(['pip', 'show', 'networkx'])\n",
    "\n",
    "except:\n",
    "    print(\"Testing python package networkx failed.\\n\")\n",
    "else:\n",
    "    print(\"Testing python package networkx passed.\\n\")"
   ]
  },
  {
   "cell_type": "code",
   "execution_count": 3,
   "metadata": {
    "collapsed": false
   },
   "outputs": [
    {
     "name": "stdout",
     "output_type": "stream",
     "text": [
      "Testing database access and query...\n",
      "Testing database access and query passed.\n",
      "\n"
     ]
    }
   ],
   "source": [
    "print(\"Testing database access and query...\")\n",
    "\n",
    "def testRunSBiDer(directory_path, user_query, indirect=False):\n",
    "\n",
    "    # Access database\n",
    "    database_file = directory_path + \"/SBiDer.db\"\n",
    "    conn, cur = db.db_open(database_file)\n",
    "\n",
    "    # Dictionary of fragmented user inputs that satisfy user query\n",
    "    logic_dictionary = parser.parse_logic(cur, user_query)\n",
    "\n",
    "    # Dictionaries of: Operon <-> InputSpecies, Operon <-> OutputSpecies, and Operon <-> Repressor\n",
    "    input_dictionary, output_dictionary = db.make_ope_id_spe_id_dics(cur)\n",
    "    repressor_dictionary = db.make_ope_id_rep_spe_id_dic(cur)\n",
    "    #rint(\"** input dictionary\")\n",
    "    #BiDer_helper.printplus(input_dictionary)\n",
    "    #rint(\"** output dictionary\")\n",
    "    #BiDer_helper.printplus(output_dictionary)\n",
    "    #rint(\"** repressor dictionary\")\n",
    "    #BiDer_helper.printplus(repressor_dictionary)\n",
    "\n",
    "    # Build operon path for each fragmented user input, which satisfies user query\n",
    "    all_operon_path = []\n",
    "    for input_species, output_species_list in logic_dictionary.items():\n",
    "\n",
    "        operon_path_per_start_species = [input_species]\n",
    "        for output_species in output_species_list:\n",
    "            operon_path_list = searcher.get_sbider_path(input_dictionary,\n",
    "                                                        repressor_dictionary,\n",
    "                                                        output_dictionary,\n",
    "                                                        list(input_species),\n",
    "                                                        output_species,\n",
    "                                                        indirect)\n",
    "            operon_path_per_start_species.extend(operon_path_list)\n",
    "            \n",
    "        all_operon_path.append(operon_path_per_start_species)\n",
    "        \n",
    "        return all_operon_path == [[('21', '22'), ['72-3'], ['82-1']]]\n",
    "\n",
    "    \n",
    "## Test run SBiDer\n",
    "\n",
    "path = \"/cellar/users/hyeerna/BInf/SBiDer/CircuitNetwork/web\"\n",
    "user_input =\"laci and iptg = yfp\"\n",
    "indirect_flag = False\n",
    "\n",
    "if testRunSBiDer(path, user_input, indirect_flag):\n",
    "    print(\"Testing database access and query passed.\\n\")\n",
    "else:\n",
    "    print(\"Testing database access and query failed.\\n\")"
   ]
  }
 ],
 "metadata": {
  "kernelspec": {
   "display_name": "Python 3",
   "language": "python",
   "name": "python3"
  },
  "language_info": {
   "codemirror_mode": {
    "name": "ipython",
    "version": 3
   },
   "file_extension": ".py",
   "mimetype": "text/x-python",
   "name": "python",
   "nbconvert_exporter": "python",
   "pygments_lexer": "ipython3",
   "version": "3.4.3"
  }
 },
 "nbformat": 4,
 "nbformat_minor": 0
}
