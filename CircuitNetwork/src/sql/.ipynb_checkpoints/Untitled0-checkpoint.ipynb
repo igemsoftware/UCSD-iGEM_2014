{
 "metadata": {
  "name": "",
  "signature": "sha256:1c8f247b663e1a427beb74c13cbbdd482593dc66a4c63ea44cfca422362a6c73"
 },
 "nbformat": 3,
 "nbformat_minor": 0,
 "worksheets": [
  {
   "cells": [
    {
     "cell_type": "code",
     "collapsed": false,
     "input": [
      "import database_pytools as db\n",
      "import pandas as pd\n",
      "import itertools as it\n",
      "import math\n",
      "\n",
      "db.open(\"sbider.db\")\n",
      "db.make_db()\n",
      "path = \"/Users/K/Desktop/SBiDer_Database.xlsx\"\n",
      "\n",
      "def table_id_dict(table_name):\n",
      "    \"\"\"\n",
      "    Returns:\n",
      "        a dictionary of the table with the key_col\n",
      "        as the column used for indexing and\n",
      "        row_col is the value\n",
      "    \"\"\"\n",
      "    table_list = db.select(table_name, ['id', 'name'])\n",
      "    table_dict = {}\n",
      "    for _id, name in table_list:\n",
      "        table_dict[name] = _id\n",
      "    return table_dict\n",
      "        \n",
      "\n",
      "def format_values(row):\n",
      "    \"\"\" formats the values a given row based on the python types needed for \n",
      "        proper sql insertion and update\n",
      "    Returns:\n",
      "        a new list with the values formatted accordingly\n",
      "    \"\"\"\n",
      "    new_row = []\n",
      "    for item in row:\n",
      "            if isinstance(item, unicode):\n",
      "                #print 'unicode change b', item\n",
      "                new_row.append(str(item))\n",
      "                #print 'unicode change a', item\n",
      "            elif math.isnan(item):\n",
      "                #print 'nan change b', item\n",
      "                new_row.append(\"na\")\n",
      "                #print 'nan change a', item\n",
      "            elif isinstance(item, float):\n",
      "                #print 'float changer b', item\n",
      "                new_row.append(int(item))\n",
      "                #print 'float changer a', item\n",
      "    return new_row\n",
      "            \n",
      "#making the plasmid table\n",
      "plasmid = pd.io.excel.read_excel(path, \"database\")\n",
      "plasmid = plasmid[['P_ID','P_Name', 'Title', 'Authors', 'Journal', 'Year']]\n",
      "plasmid_t = plasmid.values.T.tolist()\n",
      "\n",
      "for row in it.izip(*plasmid_t):\n",
      "    row = list(row)\n",
      "    if not (math.isnan(row[0])):\n",
      "        row = format_values(row)\n",
      "        print row\n",
      "        db.insert('plasmid', ['id', 'name', 'title', 'authors', 'journal', \n",
      "            'year'], row)\n",
      "plasmid_dict = table_id_dict('plasmid')\n",
      "            \n",
      "#making the operon table\n",
      "operon = pd.io.excel.read_excel(path, \"plasmid\")\n",
      "operon = operon[['O_ID', 'Structure']]\n",
      "operon_t = operon.values.T.tolist()\n",
      "\n",
      "for row in it.izip(*operon_t):\n",
      "    row = list(row)\n",
      "    row = format_values(row)\n",
      "    if row[0] != 'na':\n",
      "        db.insert('operon', ['id', 'name'], row)\n",
      "operon_dict = table_id_dict('operon')        \n",
      "            \n",
      "#making the part table\n",
      "part = pd.io.excel.read_excel(path, 'part')\n",
      "part_t = part.values.T.tolist()\n",
      "\n",
      "for row in it.izip(*part_t):\n",
      "    row = list(row)\n",
      "    row = format_values(row)\n",
      "    db.insert('part', ['id', 'name'], \n",
      "        row)        \n",
      "#making a part dict\n",
      "part_dict = table_id_dict(\"part\")\n",
      "\n",
      "#making the species table\n",
      "interactor = pd.io.excel.read_excel(path, 'interactor')\n",
      "interactor = interactor[['id', 'name']]\n",
      "interactor_t = interactor.values.T.tolist()\n",
      "\n",
      "for row in it.izip(*interactor_t):\n",
      "    row = list(row)\n",
      "    row = format_values(row)\n",
      "    db.insert('interactor', ['id', 'name'], row)\n",
      "#making a interactor dict\n",
      "interactor_dict = table_id_dict(\"interactor\")\n",
      "        \n",
      "\n",
      "\n"
     ],
     "language": "python",
     "metadata": {},
     "outputs": [
      {
       "output_type": "stream",
       "stream": "stdout",
       "text": [
        "CAUTION: you will override the data!\n",
        "Do you really want to proceed? Y or N\n"
       ]
      },
      {
       "name": "stdout",
       "output_type": "stream",
       "stream": "stdout",
       "text": [
        "Y\n"
       ]
      },
      {
       "ename": "OperationalError",
       "evalue": "table plasmid already exists",
       "output_type": "pyerr",
       "traceback": [
        "\u001b[0;31m---------------------------------------------------------------------------\u001b[0m\n\u001b[0;31mOperationalError\u001b[0m                          Traceback (most recent call last)",
        "\u001b[0;32m<ipython-input-5-ec39c1155da7>\u001b[0m in \u001b[0;36m<module>\u001b[0;34m()\u001b[0m\n\u001b[1;32m      5\u001b[0m \u001b[0;34m\u001b[0m\u001b[0m\n\u001b[1;32m      6\u001b[0m \u001b[0mdb\u001b[0m\u001b[0;34m.\u001b[0m\u001b[0mopen\u001b[0m\u001b[0;34m(\u001b[0m\u001b[0;34m\"sbider.db\"\u001b[0m\u001b[0;34m)\u001b[0m\u001b[0;34m\u001b[0m\u001b[0m\n\u001b[0;32m----> 7\u001b[0;31m \u001b[0mdb\u001b[0m\u001b[0;34m.\u001b[0m\u001b[0mmake_db\u001b[0m\u001b[0;34m(\u001b[0m\u001b[0;34m)\u001b[0m\u001b[0;34m\u001b[0m\u001b[0m\n\u001b[0m\u001b[1;32m      8\u001b[0m \u001b[0mpath\u001b[0m \u001b[0;34m=\u001b[0m \u001b[0;34m\"/Users/K/Desktop/SBiDer_Database.xlsx\"\u001b[0m\u001b[0;34m\u001b[0m\u001b[0m\n\u001b[1;32m      9\u001b[0m \u001b[0;34m\u001b[0m\u001b[0m\n",
        "\u001b[0;32m/Users/K/Programming/iGEM_ME/UCSD_IGEM/CircuitNetwork/src/sql/database_pytools.pyc\u001b[0m in \u001b[0;36mmake_db\u001b[0;34m()\u001b[0m\n\u001b[1;32m     58\u001b[0m         \u001b[0mtable_list\u001b[0m \u001b[0;34m=\u001b[0m\u001b[0;34m[\u001b[0m\u001b[0mplasmid\u001b[0m\u001b[0;34m,\u001b[0m \u001b[0moperon\u001b[0m\u001b[0;34m,\u001b[0m \u001b[0mpart\u001b[0m\u001b[0;34m,\u001b[0m \u001b[0minteractors\u001b[0m\u001b[0;34m,\u001b[0m \u001b[0mopr\u001b[0m\u001b[0;34m,\u001b[0m \u001b[0moptr\u001b[0m\u001b[0;34m,\u001b[0m \u001b[0moitr\u001b[0m\u001b[0;34m,\u001b[0m \u001b[0mootr\u001b[0m\u001b[0;34m,\u001b[0m \u001b[0minputt\u001b[0m\u001b[0;34m,\u001b[0m \u001b[0moutput\u001b[0m\u001b[0;34m]\u001b[0m\u001b[0;34m\u001b[0m\u001b[0m\n\u001b[1;32m     59\u001b[0m         \u001b[0;32mfor\u001b[0m \u001b[0mtable\u001b[0m \u001b[0;32min\u001b[0m \u001b[0mtable_list\u001b[0m\u001b[0;34m:\u001b[0m\u001b[0;34m\u001b[0m\u001b[0m\n\u001b[0;32m---> 60\u001b[0;31m             \u001b[0mcustom\u001b[0m\u001b[0;34m(\u001b[0m\u001b[0mtable\u001b[0m\u001b[0;34m)\u001b[0m\u001b[0;34m\u001b[0m\u001b[0m\n\u001b[0m\u001b[1;32m     61\u001b[0m     \u001b[0;32melse\u001b[0m\u001b[0;34m:\u001b[0m\u001b[0;34m\u001b[0m\u001b[0m\n\u001b[1;32m     62\u001b[0m         \u001b[0;32mprint\u001b[0m \u001b[0;34m\"You either typed 'N' or did not use the specified characters\"\u001b[0m\u001b[0;34m\u001b[0m\u001b[0m\n",
        "\u001b[0;32m/Users/K/Programming/iGEM_ME/UCSD_IGEM/CircuitNetwork/src/sql/database_pytools.pyc\u001b[0m in \u001b[0;36mcustom\u001b[0;34m(command)\u001b[0m\n\u001b[1;32m    128\u001b[0m     \u001b[0mcur\u001b[0m \u001b[0;34m=\u001b[0m \u001b[0mcu\u001b[0m\u001b[0;34m\u001b[0m\u001b[0m\n\u001b[1;32m    129\u001b[0m     \"\"\"\n\u001b[0;32m--> 130\u001b[0;31m     \u001b[0;32mreturn\u001b[0m \u001b[0msql\u001b[0m\u001b[0;34m.\u001b[0m\u001b[0mexecute\u001b[0m\u001b[0;34m(\u001b[0m\u001b[0mcommand\u001b[0m\u001b[0;34m)\u001b[0m\u001b[0;34m\u001b[0m\u001b[0m\n\u001b[0m\u001b[1;32m    131\u001b[0m \u001b[0;34m\u001b[0m\u001b[0m\n\u001b[1;32m    132\u001b[0m \u001b[0;32mdef\u001b[0m \u001b[0mprint_table\u001b[0m\u001b[0;34m(\u001b[0m\u001b[0mtable_name\u001b[0m\u001b[0;34m)\u001b[0m\u001b[0;34m:\u001b[0m\u001b[0;34m\u001b[0m\u001b[0m\n",
        "\u001b[0;31mOperationalError\u001b[0m: table plasmid already exists"
       ]
      }
     ],
     "prompt_number": 5
    },
    {
     "cell_type": "code",
     "collapsed": false,
     "input": [],
     "language": "python",
     "metadata": {},
     "outputs": []
    }
   ],
   "metadata": {}
  }
 ]
}